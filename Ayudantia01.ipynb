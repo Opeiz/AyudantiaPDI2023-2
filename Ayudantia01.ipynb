{
 "cells": [
  {
   "cell_type": "markdown",
   "metadata": {},
   "source": [
    "# Ayudantia N1\n",
    "### Introduccion a OpenCV"
   ]
  },
  {
   "cell_type": "markdown",
   "metadata": {},
   "source": [
    "#### Import and Show"
   ]
  },
  {
   "cell_type": "code",
   "execution_count": 1,
   "metadata": {},
   "outputs": [],
   "source": [
    "import cv2\n",
    "import numpy as np\n",
    "import os\n",
    "import random"
   ]
  },
  {
   "cell_type": "code",
   "execution_count": 17,
   "metadata": {},
   "outputs": [],
   "source": [
    "random_file = random.choice(os.listdir(\"../AyudantiaPDI2023-2/Images/\"))\n",
    "\n",
    "image = cv2.imread(os.path.join(\"../AyudantiaPDI2023-2/Images/\",random_file))\n",
    "\n",
    "cols = image.shape[1]\n",
    "rows = image.shape[0]\n",
    "\n",
    "image = cv2.resize(image, (cols//6, rows//6))\n",
    "\n",
    "cv2.imshow(\"Original Image\", image)\n",
    "cv2.waitKey(0)\n",
    "cv2.destroyAllWindows()"
   ]
  },
  {
   "cell_type": "markdown",
   "metadata": {},
   "source": [
    "#### Color Changing"
   ]
  },
  {
   "cell_type": "code",
   "execution_count": 22,
   "metadata": {},
   "outputs": [],
   "source": [
    "def GammaCorrection(src, fGamma):\n",
    "    lut = np.zeros(256, dtype=np.uint8)\n",
    "    for i in range(256):\n",
    "        lut[i] = np.uint8(pow((i/255.0), fGamma) * 255.0)\n",
    "    \n",
    "    dst = lut[src]  # Apply the LUT directly to the entire image\n",
    "    return dst\n",
    "\n",
    "gamma = np.zeros_like(image)\n",
    "gamma = GammaCorrection(image,1)\n",
    "cv2.imshow(\"Gamma\", gamma)\n",
    "\n",
    "cv2.waitKey(0)\n",
    "cv2.destroyAllWindows()"
   ]
  },
  {
   "cell_type": "code",
   "execution_count": 27,
   "metadata": {},
   "outputs": [],
   "source": [
    "rgb = cv2.cvtColor(image, cv2.COLOR_BGR2RGB)\n",
    "hsv = cv2.cvtColor(image, cv2.COLOR_BGR2HSV)\n",
    "gray = cv2.cvtColor(image, cv2.COLOR_BGR2GRAY)\n",
    "yuv = cv2.cvtColor(image, cv2.COLOR_BGR2YUV)\n",
    "\n",
    "Y = cv2.inRange(hsv, np.array([5, 0, 50]), np.array([40, 255, 255]))\n",
    "bit = cv2.bitwise_or(image, image, mask=Y)\n",
    "\n",
    "# cv2.imshow(\"Gray Image\", gray)\n",
    "# cv2.imshow(\"HSV Image\", hsv)\n",
    "# cv2.imshow(\"RGB Image\", rgb)\n",
    "\n",
    "cv2.imshow(\"Original Image\", image)\n",
    "cv2.imshow(\"Y Image\", Y)\n",
    "cv2.imshow(\"Bitwise Image\", bit)\n",
    "\n",
    "\n",
    "cv2.waitKey(0)\n",
    "cv2.destroyAllWindows()"
   ]
  },
  {
   "cell_type": "markdown",
   "metadata": {},
   "source": [
    "#### Smoothing Filters"
   ]
  },
  {
   "cell_type": "code",
   "execution_count": 28,
   "metadata": {},
   "outputs": [],
   "source": [
    "average = cv2.blur(gray, (5, 5))\n",
    "gaussian = cv2.GaussianBlur(gray, (5, 5), 0)\n",
    "median = cv2.medianBlur(gray, 5)\n",
    "\n",
    "cv2.imshow(\"Average Image\", average)\n",
    "cv2.imshow(\"Gaussian Image\", gaussian)\n",
    "cv2.imshow(\"Median Image\", median)\n",
    "\n",
    "cv2.waitKey(0)\n",
    "cv2.destroyAllWindows()"
   ]
  },
  {
   "cell_type": "markdown",
   "metadata": {},
   "source": [
    "#### Border Detector"
   ]
  },
  {
   "cell_type": "code",
   "execution_count": 31,
   "metadata": {},
   "outputs": [],
   "source": [
    "SobelX = cv2.Sobel(image, cv2.CV_64F, 1, 0, ksize=5)\n",
    "SobelY = cv2.Sobel(image, cv2.CV_64F, 0, 1, ksize=5)\n",
    "SobelXY = cv2.Sobel(image, cv2.CV_64F, 1, 1, ksize=5)\n",
    "\n",
    "cv2.imshow(\"X\", SobelX)\n",
    "cv2.imshow(\"Y\", SobelY)\n",
    "cv2.imshow(\"XY\", SobelXY)\n",
    "\n",
    "edges = cv2.Canny(image, 150, 200, 3)\n",
    "cv2.imshow(\"Canny\", edges)\n",
    "cv2.imshow(\"Orig\", image)\n",
    "\n",
    "cv2.waitKey(0)\n",
    "cv2.destroyAllWindows()"
   ]
  }
 ],
 "metadata": {
  "kernelspec": {
   "display_name": "Python 3",
   "language": "python",
   "name": "python3"
  },
  "language_info": {
   "codemirror_mode": {
    "name": "ipython",
    "version": 3
   },
   "file_extension": ".py",
   "mimetype": "text/x-python",
   "name": "python",
   "nbconvert_exporter": "python",
   "pygments_lexer": "ipython3",
   "version": "3.11.1"
  },
  "orig_nbformat": 4
 },
 "nbformat": 4,
 "nbformat_minor": 2
}
